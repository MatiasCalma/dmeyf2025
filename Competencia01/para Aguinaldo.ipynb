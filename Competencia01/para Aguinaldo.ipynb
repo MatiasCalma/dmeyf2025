{
 "cells": [
  {
   "cell_type": "code",
   "execution_count": 1,
   "id": "0fe80e6f-95cb-492b-ab59-7cb0eacbfa5d",
   "metadata": {},
   "outputs": [
    {
     "data": {
      "text/plain": [
       "(978439, 2119)"
      ]
     },
     "execution_count": 1,
     "metadata": {},
     "output_type": "execute_result"
    }
   ],
   "source": [
    "import polars as pl\n",
    "ruta = '/content/competencia_01_lags1y2_minmaxmean_0710.csv.gz'\n",
    "\n",
    "df = pl.read_csv(\n",
    "    ruta,\n",
    "    infer_schema_length=10000,\n",
    "    ignore_errors=True\n",
    ")\n",
    "\n",
    "df.shape"
   ]
  },
  {
   "cell_type": "code",
   "execution_count": 2,
   "id": "be50b7fa-1ddd-436d-b1e9-506c44566169",
   "metadata": {},
   "outputs": [
    {
     "name": "stdout",
     "output_type": "stream",
     "text": [
      "shape: (168_881, 2)\n",
      "┌───────────────────┬───────────────┐\n",
      "│ numero_de_cliente ┆ diff_mpayroll │\n",
      "│ ---               ┆ ---           │\n",
      "│ i64               ┆ f64           │\n",
      "╞═══════════════════╪═══════════════╡\n",
      "│ 249221323         ┆ 0.763775      │\n",
      "│ 249227600         ┆ 0.095417      │\n",
      "│ 249234235         ┆ NaN           │\n",
      "│ 249244449         ┆ NaN           │\n",
      "│ 249244739         ┆ NaN           │\n",
      "│ …                 ┆ …             │\n",
      "│ 1598368433        ┆ null          │\n",
      "│ 1598419415        ┆ null          │\n",
      "│ 1598425905        ┆ null          │\n",
      "│ 1598470389        ┆ null          │\n",
      "│ 1598550167        ┆ null          │\n",
      "└───────────────────┴───────────────┘\n"
     ]
    }
   ],
   "source": [
    "resultado = (df.pivot(\n",
    "        values=\"mpayroll\",\n",
    "        index=\"numero_de_cliente\",\n",
    "        on=\"foto_mes\")\n",
    "    .with_columns(\n",
    "        ((pl.col(\"202106\") - pl.col(\"202101\"))/pl.col(\"202101\")).alias(\"diff_mpayroll\"))\n",
    "    .select([\"numero_de_cliente\",\"diff_mpayroll\"])\n",
    ")\n",
    "print(resultado)\n"
   ]
  },
  {
   "cell_type": "code",
   "execution_count": 3,
   "id": "2bfc2ce4-8985-48b8-bf04-febfd686b3e9",
   "metadata": {},
   "outputs": [],
   "source": [
    "clientes_aguinaldo = (resultado.filter( \n",
    "        pl.col(\"diff_mpayroll\").is_finite()\n",
    "            & (pl.col(\"diff_mpayroll\") >= 0.3)\n",
    "            & (pl.col(\"diff_mpayroll\") <= 1)\n",
    "    ).select(\"numero_de_cliente\")\n",
    ")\n",
    "\n",
    "df = df.with_columns(pl.when(pl.col(\"numero_de_cliente\").is_in(clientes_aguinaldo[\"numero_de_cliente\"].implode())\n",
    "    )\n",
    "    .then(1)\n",
    "    .otherwise(0)\n",
    "    .alias(\"cobra_aguinaldo\")\n",
    ")"
   ]
  },
  {
   "cell_type": "code",
   "execution_count": 4,
   "id": "c2c48048-6714-47d9-bb9a-e961fc33e9c8",
   "metadata": {},
   "outputs": [],
   "source": [
    "df_aguinaldo = (df.filter(pl.col(\"cobra_aguinaldo\") == 1)\n",
    "      .pivot(values=\"mpayroll\", index=\"numero_de_cliente\", on=\"foto_mes\")\n",
    ")\n",
    "\n",
    "df_aguinaldo = df_aguinaldo.with_columns(\n",
    "    ((pl.col(\"202106\") / pl.col(\"202101\"))**(1/5) - 1).alias(\"tasa_geom\")\n",
    ")\n",
    "\n",
    "meses = [202101, 202102, 202103, 202104, 202105, 202106]\n",
    "\n",
    "for i, mes in enumerate(meses):\n",
    "    df_aguinaldo = df_aguinaldo.with_columns(\n",
    "        (pl.col(\"202101\") * (1 + pl.col(\"tasa_geom\"))**i).alias(f\"payroll_sim_{mes}\")\n",
    "    )"
   ]
  },
  {
   "cell_type": "code",
   "execution_count": 5,
   "id": "83377651-3016-405e-b6a6-37b9ec08ee6c",
   "metadata": {},
   "outputs": [
    {
     "data": {
      "text/html": [
       "<div><style>\n",
       ".dataframe > thead > tr,\n",
       ".dataframe > tbody > tr {\n",
       "  text-align: right;\n",
       "  white-space: pre-wrap;\n",
       "}\n",
       "</style>\n",
       "<small>shape: (40_828, 14)</small><table border=\"1\" class=\"dataframe\"><thead><tr><th>numero_de_cliente</th><th>202101</th><th>202102</th><th>202103</th><th>202104</th><th>202105</th><th>202106</th><th>tasa_geom</th><th>payroll_sim_202101</th><th>payroll_sim_202102</th><th>payroll_sim_202103</th><th>payroll_sim_202104</th><th>payroll_sim_202105</th><th>payroll_sim_202106</th></tr><tr><td>i64</td><td>f64</td><td>f64</td><td>f64</td><td>f64</td><td>f64</td><td>f64</td><td>f64</td><td>f64</td><td>f64</td><td>f64</td><td>f64</td><td>f64</td><td>f64</td></tr></thead><tbody><tr><td>249221323</td><td>97524.39</td><td>97055.19</td><td>97289.79</td><td>97641.69</td><td>113852.55</td><td>172011.06</td><td>0.120182</td><td>97524.39</td><td>109245.075328</td><td>122374.377152</td><td>137081.585951</td><td>153556.337889</td><td>172011.06</td></tr><tr><td>249255456</td><td>249153.41</td><td>249153.41</td><td>308001.64</td><td>287404.94</td><td>272226.32</td><td>444353.51</td><td>0.122671</td><td>249153.41</td><td>279717.212315</td><td>314030.29509</td><td>352552.584871</td><td>395800.427674</td><td>444353.51</td></tr><tr><td>249255747</td><td>302546.99</td><td>335849.33</td><td>306581.01</td><td>298200.36</td><td>316818.63</td><td>534317.98</td><td>0.120473</td><td>302546.99</td><td>338995.729305</td><td>379835.557072</td><td>425595.480839</td><td>476868.239264</td><td>534317.98</td></tr><tr><td>249275806</td><td>330584.24</td><td>353408.47</td><td>295709.78</td><td>357705.17</td><td>292811.29</td><td>500672.76</td><td>0.086562</td><td>330584.24</td><td>359200.149806</td><td>390293.099335</td><td>424077.505176</td><td>460786.344166</td><td>500672.76</td></tr><tr><td>249321238</td><td>57837.11</td><td>63627.03</td><td>63627.03</td><td>63628.21</td><td>74296.64</td><td>111636.75</td><td>0.140565</td><td>57837.11</td><td>65966.99547</td><td>75239.659991</td><td>85815.738542</td><td>97878.445787</td><td>111636.75</td></tr><tr><td>&hellip;</td><td>&hellip;</td><td>&hellip;</td><td>&hellip;</td><td>&hellip;</td><td>&hellip;</td><td>&hellip;</td><td>&hellip;</td><td>&hellip;</td><td>&hellip;</td><td>&hellip;</td><td>&hellip;</td><td>&hellip;</td><td>&hellip;</td></tr><tr><td>1573977253</td><td>129528.44</td><td>125404.76</td><td>124798.46</td><td>124798.46</td><td>160105.45</td><td>221394.56</td><td>0.113167</td><td>129528.44</td><td>144186.797898</td><td>160503.999647</td><td>178667.771796</td><td>198887.08536</td><td>221394.56</td></tr><tr><td>1574076211</td><td>105966.47</td><td>105966.47</td><td>105966.47</td><td>108068.49</td><td>124279.35</td><td>187681.17</td><td>0.121116</td><td>105966.47</td><td>118800.676628</td><td>133189.307592</td><td>149320.628134</td><td>167405.705379</td><td>187681.17</td></tr><tr><td>1574833703</td><td>30543.74</td><td>31157.22</td><td>46409.74</td><td>46800.35</td><td>53737.47</td><td>52168.0</td><td>0.113003</td><td>30543.74</td><td>33995.278922</td><td>37836.852624</td><td>42112.536266</td><td>46871.385641</td><td>52168.0</td></tr><tr><td>1575337701</td><td>111654.53</td><td>126467.8</td><td>125536.86</td><td>148056.63</td><td>120884.26</td><td>175608.57</td><td>0.094798</td><td>111654.53</td><td>122239.121336</td><td>133827.107463</td><td>146513.607886</td><td>160402.759223</td><td>175608.57</td></tr><tr><td>1582300633</td><td>113857.84</td><td>131257.25</td><td>129655.94</td><td>152754.69</td><td>124539.32</td><td>179693.34</td><td>0.095554</td><td>113857.84</td><td>124737.417573</td><td>136656.58283</td><td>149714.672583</td><td>164020.515679</td><td>179693.34</td></tr></tbody></table></div>"
      ],
      "text/plain": [
       "shape: (40_828, 14)\n",
       "┌───────────┬───────────┬───────────┬───────────┬───┬───────────┬───────────┬───────────┬──────────┐\n",
       "│ numero_de ┆ 202101    ┆ 202102    ┆ 202103    ┆ … ┆ payroll_s ┆ payroll_s ┆ payroll_s ┆ payroll_ │\n",
       "│ _cliente  ┆ ---       ┆ ---       ┆ ---       ┆   ┆ im_202103 ┆ im_202104 ┆ im_202105 ┆ sim_2021 │\n",
       "│ ---       ┆ f64       ┆ f64       ┆ f64       ┆   ┆ ---       ┆ ---       ┆ ---       ┆ 06       │\n",
       "│ i64       ┆           ┆           ┆           ┆   ┆ f64       ┆ f64       ┆ f64       ┆ ---      │\n",
       "│           ┆           ┆           ┆           ┆   ┆           ┆           ┆           ┆ f64      │\n",
       "╞═══════════╪═══════════╪═══════════╪═══════════╪═══╪═══════════╪═══════════╪═══════════╪══════════╡\n",
       "│ 249221323 ┆ 97524.39  ┆ 97055.19  ┆ 97289.79  ┆ … ┆ 122374.37 ┆ 137081.58 ┆ 153556.33 ┆ 172011.0 │\n",
       "│           ┆           ┆           ┆           ┆   ┆ 7152      ┆ 5951      ┆ 7889      ┆ 6        │\n",
       "│ 249255456 ┆ 249153.41 ┆ 249153.41 ┆ 308001.64 ┆ … ┆ 314030.29 ┆ 352552.58 ┆ 395800.42 ┆ 444353.5 │\n",
       "│           ┆           ┆           ┆           ┆   ┆ 509       ┆ 4871      ┆ 7674      ┆ 1        │\n",
       "│ 249255747 ┆ 302546.99 ┆ 335849.33 ┆ 306581.01 ┆ … ┆ 379835.55 ┆ 425595.48 ┆ 476868.23 ┆ 534317.9 │\n",
       "│           ┆           ┆           ┆           ┆   ┆ 7072      ┆ 0839      ┆ 9264      ┆ 8        │\n",
       "│ 249275806 ┆ 330584.24 ┆ 353408.47 ┆ 295709.78 ┆ … ┆ 390293.09 ┆ 424077.50 ┆ 460786.34 ┆ 500672.7 │\n",
       "│           ┆           ┆           ┆           ┆   ┆ 9335      ┆ 5176      ┆ 4166      ┆ 6        │\n",
       "│ 249321238 ┆ 57837.11  ┆ 63627.03  ┆ 63627.03  ┆ … ┆ 75239.659 ┆ 85815.738 ┆ 97878.445 ┆ 111636.7 │\n",
       "│           ┆           ┆           ┆           ┆   ┆ 991       ┆ 542       ┆ 787       ┆ 5        │\n",
       "│ …         ┆ …         ┆ …         ┆ …         ┆ … ┆ …         ┆ …         ┆ …         ┆ …        │\n",
       "│ 157397725 ┆ 129528.44 ┆ 125404.76 ┆ 124798.46 ┆ … ┆ 160503.99 ┆ 178667.77 ┆ 198887.08 ┆ 221394.5 │\n",
       "│ 3         ┆           ┆           ┆           ┆   ┆ 9647      ┆ 1796      ┆ 536       ┆ 6        │\n",
       "│ 157407621 ┆ 105966.47 ┆ 105966.47 ┆ 105966.47 ┆ … ┆ 133189.30 ┆ 149320.62 ┆ 167405.70 ┆ 187681.1 │\n",
       "│ 1         ┆           ┆           ┆           ┆   ┆ 7592      ┆ 8134      ┆ 5379      ┆ 7        │\n",
       "│ 157483370 ┆ 30543.74  ┆ 31157.22  ┆ 46409.74  ┆ … ┆ 37836.852 ┆ 42112.536 ┆ 46871.385 ┆ 52168.0  │\n",
       "│ 3         ┆           ┆           ┆           ┆   ┆ 624       ┆ 266       ┆ 641       ┆          │\n",
       "│ 157533770 ┆ 111654.53 ┆ 126467.8  ┆ 125536.86 ┆ … ┆ 133827.10 ┆ 146513.60 ┆ 160402.75 ┆ 175608.5 │\n",
       "│ 1         ┆           ┆           ┆           ┆   ┆ 7463      ┆ 7886      ┆ 9223      ┆ 7        │\n",
       "│ 158230063 ┆ 113857.84 ┆ 131257.25 ┆ 129655.94 ┆ … ┆ 136656.58 ┆ 149714.67 ┆ 164020.51 ┆ 179693.3 │\n",
       "│ 3         ┆           ┆           ┆           ┆   ┆ 283       ┆ 2583      ┆ 5679      ┆ 4        │\n",
       "└───────────┴───────────┴───────────┴───────────┴───┴───────────┴───────────┴───────────┴──────────┘"
      ]
     },
     "execution_count": 5,
     "metadata": {},
     "output_type": "execute_result"
    }
   ],
   "source": [
    "df_aguinaldo"
   ]
  },
  {
   "cell_type": "code",
   "execution_count": 6,
   "id": "49a0e970-5768-4571-a1d8-9e2caa373b04",
   "metadata": {},
   "outputs": [
    {
     "name": "stderr",
     "output_type": "stream",
     "text": [
      "/tmp/ipykernel_5055/1605197139.py:1: DeprecationWarning: `DataFrame.melt` is deprecated; use `DataFrame.unpivot` instead, with `index` instead of `id_vars` and `on` instead of `value_vars`\n",
      "  df_long = df_aguinaldo.melt(id_vars=[\"numero_de_cliente\", \"tasa_geom\"],  # columnas que se mantienen\n"
     ]
    }
   ],
   "source": [
    "df_long = df_aguinaldo.melt(id_vars=[\"numero_de_cliente\", \"tasa_geom\"],  # columnas que se mantienen\n",
    "    value_vars=[f\"payroll_sim_{mes}\" for mes in [202101, 202102, 202103, 202104, 202105, 202106]],  # columnas a “despivotar”\n",
    "    variable_name=\"foto_mes\",\n",
    "    value_name=\"payroll_simulado\"\n",
    ")\n",
    "\n",
    "df_long = df_long.with_columns(\n",
    "    pl.col(\"foto_mes\").str.replace(\"payroll_sim_\", \"\").cast(pl.Int64)\n",
    ")\n"
   ]
  },
  {
   "cell_type": "code",
   "execution_count": 7,
   "id": "48375662-8e38-4f33-aa9a-5270f6bae9e7",
   "metadata": {},
   "outputs": [
    {
     "data": {
      "text/html": [
       "<div><style>\n",
       ".dataframe > thead > tr,\n",
       ".dataframe > tbody > tr {\n",
       "  text-align: right;\n",
       "  white-space: pre-wrap;\n",
       "}\n",
       "</style>\n",
       "<small>shape: (244_968, 4)</small><table border=\"1\" class=\"dataframe\"><thead><tr><th>numero_de_cliente</th><th>tasa_geom</th><th>foto_mes</th><th>payroll_simulado</th></tr><tr><td>i64</td><td>f64</td><td>i64</td><td>f64</td></tr></thead><tbody><tr><td>249221323</td><td>0.120182</td><td>202101</td><td>97524.39</td></tr><tr><td>249255456</td><td>0.122671</td><td>202101</td><td>249153.41</td></tr><tr><td>249255747</td><td>0.120473</td><td>202101</td><td>302546.99</td></tr><tr><td>249275806</td><td>0.086562</td><td>202101</td><td>330584.24</td></tr><tr><td>249321238</td><td>0.140565</td><td>202101</td><td>57837.11</td></tr><tr><td>&hellip;</td><td>&hellip;</td><td>&hellip;</td><td>&hellip;</td></tr><tr><td>1573977253</td><td>0.113167</td><td>202106</td><td>221394.56</td></tr><tr><td>1574076211</td><td>0.121116</td><td>202106</td><td>187681.17</td></tr><tr><td>1574833703</td><td>0.113003</td><td>202106</td><td>52168.0</td></tr><tr><td>1575337701</td><td>0.094798</td><td>202106</td><td>175608.57</td></tr><tr><td>1582300633</td><td>0.095554</td><td>202106</td><td>179693.34</td></tr></tbody></table></div>"
      ],
      "text/plain": [
       "shape: (244_968, 4)\n",
       "┌───────────────────┬───────────┬──────────┬──────────────────┐\n",
       "│ numero_de_cliente ┆ tasa_geom ┆ foto_mes ┆ payroll_simulado │\n",
       "│ ---               ┆ ---       ┆ ---      ┆ ---              │\n",
       "│ i64               ┆ f64       ┆ i64      ┆ f64              │\n",
       "╞═══════════════════╪═══════════╪══════════╪══════════════════╡\n",
       "│ 249221323         ┆ 0.120182  ┆ 202101   ┆ 97524.39         │\n",
       "│ 249255456         ┆ 0.122671  ┆ 202101   ┆ 249153.41        │\n",
       "│ 249255747         ┆ 0.120473  ┆ 202101   ┆ 302546.99        │\n",
       "│ 249275806         ┆ 0.086562  ┆ 202101   ┆ 330584.24        │\n",
       "│ 249321238         ┆ 0.140565  ┆ 202101   ┆ 57837.11         │\n",
       "│ …                 ┆ …         ┆ …        ┆ …                │\n",
       "│ 1573977253        ┆ 0.113167  ┆ 202106   ┆ 221394.56        │\n",
       "│ 1574076211        ┆ 0.121116  ┆ 202106   ┆ 187681.17        │\n",
       "│ 1574833703        ┆ 0.113003  ┆ 202106   ┆ 52168.0          │\n",
       "│ 1575337701        ┆ 0.094798  ┆ 202106   ┆ 175608.57        │\n",
       "│ 1582300633        ┆ 0.095554  ┆ 202106   ┆ 179693.34        │\n",
       "└───────────────────┴───────────┴──────────┴──────────────────┘"
      ]
     },
     "execution_count": 7,
     "metadata": {},
     "output_type": "execute_result"
    }
   ],
   "source": [
    "df_long"
   ]
  },
  {
   "cell_type": "code",
   "execution_count": 8,
   "id": "b6ecc969-6a15-42d4-877b-74210038ac2b",
   "metadata": {},
   "outputs": [
    {
     "data": {
      "text/plain": [
       "(978439, 2122)"
      ]
     },
     "execution_count": 8,
     "metadata": {},
     "output_type": "execute_result"
    }
   ],
   "source": [
    "df_final = df.join(df_long, on=[\"numero_de_cliente\", \"foto_mes\"],how=\"left\")\n",
    "df_final.shape\n"
   ]
  },
  {
   "cell_type": "code",
   "execution_count": 9,
   "id": "fae33c48-b1d0-4c63-84b1-fc4e53fb1890",
   "metadata": {},
   "outputs": [
    {
     "data": {
      "text/html": [
       "<div><style>\n",
       ".dataframe > thead > tr,\n",
       ".dataframe > tbody > tr {\n",
       "  text-align: right;\n",
       "  white-space: pre-wrap;\n",
       "}\n",
       "</style>\n",
       "<small>shape: (6, 3)</small><table border=\"1\" class=\"dataframe\"><thead><tr><th>mpayroll</th><th>tasa_geom</th><th>payroll_simulado</th></tr><tr><td>f64</td><td>f64</td><td>f64</td></tr></thead><tbody><tr><td>30543.74</td><td>0.113003</td><td>30543.74</td></tr><tr><td>31157.22</td><td>0.113003</td><td>33995.278922</td></tr><tr><td>46409.74</td><td>0.113003</td><td>37836.852624</td></tr><tr><td>46800.35</td><td>0.113003</td><td>42112.536266</td></tr><tr><td>53737.47</td><td>0.113003</td><td>46871.385641</td></tr><tr><td>52168.0</td><td>0.113003</td><td>52168.0</td></tr></tbody></table></div>"
      ],
      "text/plain": [
       "shape: (6, 3)\n",
       "┌──────────┬───────────┬──────────────────┐\n",
       "│ mpayroll ┆ tasa_geom ┆ payroll_simulado │\n",
       "│ ---      ┆ ---       ┆ ---              │\n",
       "│ f64      ┆ f64       ┆ f64              │\n",
       "╞══════════╪═══════════╪══════════════════╡\n",
       "│ 30543.74 ┆ 0.113003  ┆ 30543.74         │\n",
       "│ 31157.22 ┆ 0.113003  ┆ 33995.278922     │\n",
       "│ 46409.74 ┆ 0.113003  ┆ 37836.852624     │\n",
       "│ 46800.35 ┆ 0.113003  ┆ 42112.536266     │\n",
       "│ 53737.47 ┆ 0.113003  ┆ 46871.385641     │\n",
       "│ 52168.0  ┆ 0.113003  ┆ 52168.0          │\n",
       "└──────────┴───────────┴──────────────────┘"
      ]
     },
     "execution_count": 9,
     "metadata": {},
     "output_type": "execute_result"
    }
   ],
   "source": [
    "df_final.filter(pl.col('numero_de_cliente')==1574833703).select('mpayroll','tasa_geom','payroll_simulado')"
   ]
  },
  {
   "cell_type": "code",
   "execution_count": 10,
   "id": "402b35ff-a2d0-446e-a51f-8daafae69363",
   "metadata": {},
   "outputs": [
    {
     "data": {
      "text/html": [
       "<div><style>\n",
       ".dataframe > thead > tr,\n",
       ".dataframe > tbody > tr {\n",
       "  text-align: right;\n",
       "  white-space: pre-wrap;\n",
       "}\n",
       "</style>\n",
       "<small>shape: (5, 2_122)</small><table border=\"1\" class=\"dataframe\"><thead><tr><th>numero_de_cliente</th><th>foto_mes</th><th>clase_ternaria</th><th>active_quarter</th><th>cliente_vip</th><th>internet</th><th>cliente_edad</th><th>cliente_antiguedad</th><th>mrentabilidad</th><th>mrentabilidad_annual</th><th>mcomisiones</th><th>mactivos_margen</th><th>mpasivos_margen</th><th>cproductos</th><th>tcuentas</th><th>ccuenta_corriente</th><th>mcuenta_corriente_adicional</th><th>mcuenta_corriente</th><th>ccaja_ahorro</th><th>mcaja_ahorro</th><th>mcaja_ahorro_adicional</th><th>mcaja_ahorro_dolares</th><th>cdescubierto_preacordado</th><th>mcuentas_saldo</th><th>ctarjeta_debito</th><th>ctarjeta_debito_transacciones</th><th>mautoservicio</th><th>ctarjeta_visa</th><th>ctarjeta_visa_transacciones</th><th>mtarjeta_visa_consumo</th><th>ctarjeta_master</th><th>ctarjeta_master_transacciones</th><th>mtarjeta_master_consumo</th><th>cprestamos_personales</th><th>mprestamos_personales</th><th>cprestamos_prendarios</th><th>mprestamos_prendarios</th><th>&hellip;</th><th>Visa_msaldototal_delta1_mean</th><th>Visa_msaldototal_delta2_mean</th><th>Visa_msaldopesos_delta1_mean</th><th>Visa_msaldopesos_delta2_mean</th><th>Visa_msaldodolares_delta1_mean</th><th>Visa_msaldodolares_delta2_mean</th><th>Visa_mconsumospesos_delta1_mean</th><th>Visa_mconsumospesos_delta2_mean</th><th>Visa_mconsumosdolares_delta1_mean</th><th>Visa_mconsumosdolares_delta2_mean</th><th>Visa_mlimitecompra_delta1_mean</th><th>Visa_mlimitecompra_delta2_mean</th><th>Visa_madelantopesos_delta1_mean</th><th>Visa_madelantopesos_delta2_mean</th><th>Visa_madelantodolares_delta1_mean</th><th>Visa_madelantodolares_delta2_mean</th><th>Visa_fultimo_cierre_delta1_mean</th><th>Visa_fultimo_cierre_delta2_mean</th><th>Visa_mpagado_delta1_mean</th><th>Visa_mpagado_delta2_mean</th><th>Visa_mpagospesos_delta1_mean</th><th>Visa_mpagospesos_delta2_mean</th><th>Visa_mpagosdolares_delta1_mean</th><th>Visa_mpagosdolares_delta2_mean</th><th>Visa_fechaalta_delta1_mean</th><th>Visa_fechaalta_delta2_mean</th><th>Visa_mconsumototal_delta1_mean</th><th>Visa_mconsumototal_delta2_mean</th><th>Visa_cconsumos_delta1_mean</th><th>Visa_cconsumos_delta2_mean</th><th>Visa_cadelantosefectivo_delta1_mean</th><th>Visa_cadelantosefectivo_delta2_mean</th><th>Visa_mpagominimo_delta1_mean</th><th>Visa_mpagominimo_delta2_mean</th><th>cobra_aguinaldo</th><th>tasa_geom</th><th>payroll_simulado</th></tr><tr><td>i64</td><td>i64</td><td>str</td><td>i64</td><td>i64</td><td>i64</td><td>i64</td><td>i64</td><td>f64</td><td>f64</td><td>f64</td><td>f64</td><td>f64</td><td>i64</td><td>i64</td><td>i64</td><td>f64</td><td>f64</td><td>i64</td><td>f64</td><td>f64</td><td>f64</td><td>i64</td><td>f64</td><td>i64</td><td>i64</td><td>f64</td><td>i64</td><td>i64</td><td>f64</td><td>i64</td><td>i64</td><td>f64</td><td>i64</td><td>f64</td><td>i64</td><td>f64</td><td>&hellip;</td><td>f64</td><td>f64</td><td>f64</td><td>f64</td><td>f64</td><td>f64</td><td>f64</td><td>f64</td><td>f64</td><td>f64</td><td>f64</td><td>f64</td><td>f64</td><td>f64</td><td>f64</td><td>f64</td><td>i64</td><td>i64</td><td>f64</td><td>f64</td><td>f64</td><td>f64</td><td>f64</td><td>f64</td><td>i64</td><td>i64</td><td>f64</td><td>f64</td><td>i64</td><td>i64</td><td>i64</td><td>i64</td><td>f64</td><td>f64</td><td>i32</td><td>f64</td><td>f64</td></tr></thead><tbody><tr><td>249221323</td><td>202101</td><td>&quot;CONTINUA&quot;</td><td>1</td><td>0</td><td>0</td><td>46</td><td>93</td><td>3070.24</td><td>15691.1</td><td>1278.11</td><td>890.96</td><td>636.86</td><td>8</td><td>1</td><td>1</td><td>0.0</td><td>-314.48</td><td>2</td><td>25761.53</td><td>0.0</td><td>10240.09</td><td>1</td><td>22890.77</td><td>1</td><td>5</td><td>35013.67</td><td>1</td><td>10</td><td>15929.92</td><td>1</td><td>13</td><td>27145.02</td><td>0</td><td>0.0</td><td>0</td><td>0.0</td><td>&hellip;</td><td>null</td><td>null</td><td>null</td><td>null</td><td>null</td><td>null</td><td>null</td><td>null</td><td>null</td><td>null</td><td>null</td><td>null</td><td>null</td><td>null</td><td>null</td><td>null</td><td>null</td><td>null</td><td>null</td><td>null</td><td>null</td><td>null</td><td>null</td><td>null</td><td>null</td><td>null</td><td>null</td><td>null</td><td>null</td><td>null</td><td>null</td><td>null</td><td>null</td><td>null</td><td>1</td><td>0.120182</td><td>97524.39</td></tr><tr><td>249221323</td><td>202102</td><td>&quot;CONTINUA&quot;</td><td>1</td><td>0</td><td>0</td><td>46</td><td>94</td><td>3385.85</td><td>19103.66</td><td>1230.47</td><td>1631.3</td><td>206.19</td><td>8</td><td>1</td><td>1</td><td>0.0</td><td>0.0</td><td>2</td><td>8116.43</td><td>0.0</td><td>10536.47</td><td>1</td><td>10629.59</td><td>1</td><td>1</td><td>2315.5</td><td>1</td><td>11</td><td>17285.39</td><td>1</td><td>22</td><td>25713.45</td><td>0</td><td>0.0</td><td>0</td><td>0.0</td><td>&hellip;</td><td>null</td><td>null</td><td>null</td><td>null</td><td>null</td><td>null</td><td>null</td><td>null</td><td>null</td><td>null</td><td>null</td><td>null</td><td>null</td><td>null</td><td>null</td><td>null</td><td>null</td><td>null</td><td>null</td><td>null</td><td>null</td><td>null</td><td>null</td><td>null</td><td>null</td><td>null</td><td>null</td><td>null</td><td>null</td><td>null</td><td>null</td><td>null</td><td>null</td><td>null</td><td>1</td><td>0.120182</td><td>109245.075328</td></tr><tr><td>249221323</td><td>202103</td><td>&quot;CONTINUA&quot;</td><td>1</td><td>0</td><td>0</td><td>46</td><td>95</td><td>5341.18</td><td>24020.21</td><td>755.85</td><td>2768.95</td><td>1140.11</td><td>8</td><td>1</td><td>1</td><td>0.0</td><td>-3933.18</td><td>2</td><td>4015.77</td><td>0.0</td><td>10789.84</td><td>1</td><td>4650.31</td><td>1</td><td>0</td><td>0.0</td><td>1</td><td>10</td><td>18976.09</td><td>1</td><td>16</td><td>45821.57</td><td>0</td><td>0.0</td><td>0</td><td>0.0</td><td>&hellip;</td><td>-22852.04</td><td>null</td><td>-26805.435</td><td>null</td><td>0.0</td><td>null</td><td>1979.81</td><td>null</td><td>0.085</td><td>null</td><td>0.0</td><td>null</td><td>0.0</td><td>null</td><td>0.0</td><td>null</td><td>-1</td><td>null</td><td>0.0</td><td>null</td><td>-14949.985</td><td>null</td><td>0.0</td><td>null</td><td>29</td><td>null</td><td>1979.81</td><td>null</td><td>0</td><td>null</td><td>0</td><td>null</td><td>-4779.975</td><td>null</td><td>1</td><td>0.120182</td><td>122374.377152</td></tr><tr><td>249221323</td><td>202104</td><td>&quot;CONTINUA&quot;</td><td>1</td><td>0</td><td>0</td><td>46</td><td>96</td><td>5356.62</td><td>29189.81</td><td>1470.2</td><td>2627.7</td><td>685.53</td><td>8</td><td>1</td><td>1</td><td>0.0</td><td>-1960.57</td><td>2</td><td>2136.11</td><td>0.0</td><td>10974.0</td><td>1</td><td>9358.46</td><td>1</td><td>0</td><td>0.0</td><td>1</td><td>10</td><td>19201.77</td><td>1</td><td>18</td><td>17373.08</td><td>0</td><td>0.0</td><td>0</td><td>0.0</td><td>&hellip;</td><td>-2570.905</td><td>-25422.945</td><td>-3015.675</td><td>-29821.11</td><td>0.0</td><td>0.0</td><td>189.735</td><td>2169.545</td><td>-0.13</td><td>-0.045</td><td>0.0</td><td>0.0</td><td>0.0</td><td>0.0</td><td>0.0</td><td>0.0</td><td>2</td><td>1</td><td>-25366.72</td><td>-25366.72</td><td>25366.72</td><td>10416.735</td><td>0.0</td><td>0.0</td><td>30</td><td>60</td><td>189.735</td><td>2169.545</td><td>-1</td><td>0</td><td>0</td><td>0</td><td>-3706.68</td><td>-8486.655</td><td>1</td><td>0.120182</td><td>137081.585951</td></tr><tr><td>249221323</td><td>202105</td><td>&quot;&quot;</td><td>1</td><td>0</td><td>0</td><td>46</td><td>97</td><td>2489.25</td><td>31505.78</td><td>1008.8</td><td>952.16</td><td>309.95</td><td>8</td><td>1</td><td>1</td><td>0.0</td><td>-263.5</td><td>2</td><td>6204.56</td><td>0.0</td><td>11106.55</td><td>1</td><td>13240.63</td><td>1</td><td>1</td><td>2216.97</td><td>1</td><td>9</td><td>19278.3</td><td>1</td><td>14</td><td>16708.69</td><td>0</td><td>0.0</td><td>0</td><td>0.0</td><td>&hellip;</td><td>9758.9</td><td>7187.995</td><td>11447.185</td><td>8431.51</td><td>0.0</td><td>0.0</td><td>-825.51</td><td>-635.775</td><td>-0.025</td><td>-0.155</td><td>0.0</td><td>0.0</td><td>0.0</td><td>0.0</td><td>0.0</td><td>0.0</td><td>2</td><td>4</td><td>0.0</td><td>-25366.72</td><td>16835.695</td><td>42202.415</td><td>0.0</td><td>0.0</td><td>30</td><td>61</td><td>-825.51</td><td>-635.775</td><td>0</td><td>-1</td><td>0</td><td>0</td><td>1055.7</td><td>-2650.98</td><td>1</td><td>0.120182</td><td>153556.337889</td></tr></tbody></table></div>"
      ],
      "text/plain": [
       "shape: (5, 2_122)\n",
       "┌───────────┬──────────┬───────────┬───────────┬───┬───────────┬───────────┬───────────┬───────────┐\n",
       "│ numero_de ┆ foto_mes ┆ clase_ter ┆ active_qu ┆ … ┆ Visa_mpag ┆ cobra_agu ┆ tasa_geom ┆ payroll_s │\n",
       "│ _cliente  ┆ ---      ┆ naria     ┆ arter     ┆   ┆ ominimo_d ┆ inaldo    ┆ ---       ┆ imulado   │\n",
       "│ ---       ┆ i64      ┆ ---       ┆ ---       ┆   ┆ elta2_mea ┆ ---       ┆ f64       ┆ ---       │\n",
       "│ i64       ┆          ┆ str       ┆ i64       ┆   ┆ n         ┆ i32       ┆           ┆ f64       │\n",
       "│           ┆          ┆           ┆           ┆   ┆ ---       ┆           ┆           ┆           │\n",
       "│           ┆          ┆           ┆           ┆   ┆ f64       ┆           ┆           ┆           │\n",
       "╞═══════════╪══════════╪═══════════╪═══════════╪═══╪═══════════╪═══════════╪═══════════╪═══════════╡\n",
       "│ 249221323 ┆ 202101   ┆ CONTINUA  ┆ 1         ┆ … ┆ null      ┆ 1         ┆ 0.120182  ┆ 97524.39  │\n",
       "│ 249221323 ┆ 202102   ┆ CONTINUA  ┆ 1         ┆ … ┆ null      ┆ 1         ┆ 0.120182  ┆ 109245.07 │\n",
       "│           ┆          ┆           ┆           ┆   ┆           ┆           ┆           ┆ 5328      │\n",
       "│ 249221323 ┆ 202103   ┆ CONTINUA  ┆ 1         ┆ … ┆ null      ┆ 1         ┆ 0.120182  ┆ 122374.37 │\n",
       "│           ┆          ┆           ┆           ┆   ┆           ┆           ┆           ┆ 7152      │\n",
       "│ 249221323 ┆ 202104   ┆ CONTINUA  ┆ 1         ┆ … ┆ -8486.655 ┆ 1         ┆ 0.120182  ┆ 137081.58 │\n",
       "│           ┆          ┆           ┆           ┆   ┆           ┆           ┆           ┆ 5951      │\n",
       "│ 249221323 ┆ 202105   ┆           ┆ 1         ┆ … ┆ -2650.98  ┆ 1         ┆ 0.120182  ┆ 153556.33 │\n",
       "│           ┆          ┆           ┆           ┆   ┆           ┆           ┆           ┆ 7889      │\n",
       "└───────────┴──────────┴───────────┴───────────┴───┴───────────┴───────────┴───────────┴───────────┘"
      ]
     },
     "execution_count": 10,
     "metadata": {},
     "output_type": "execute_result"
    }
   ],
   "source": [
    "df_final.head(5)"
   ]
  },
  {
   "cell_type": "code",
   "execution_count": 11,
   "id": "0e310f89-68d1-42b5-8973-00225a978897",
   "metadata": {},
   "outputs": [],
   "source": [
    "df_final.write_csv(\"/content/dataset_1110_lag1y2_maxminmean_aguinaldo.csv.gz\")\n"
   ]
  },
  {
   "cell_type": "code",
   "execution_count": null,
   "id": "da6b92c6-e59c-4386-86f9-d4ef51c6ccb7",
   "metadata": {},
   "outputs": [],
   "source": []
  },
  {
   "cell_type": "code",
   "execution_count": null,
   "id": "889d4824-9ead-4be3-8ae4-f9b101132aa6",
   "metadata": {},
   "outputs": [],
   "source": []
  }
 ],
 "metadata": {
  "kernelspec": {
   "display_name": "Python 3 (ipykernel)",
   "language": "python",
   "name": "python3"
  },
  "language_info": {
   "codemirror_mode": {
    "name": "ipython",
    "version": 3
   },
   "file_extension": ".py",
   "mimetype": "text/x-python",
   "name": "python",
   "nbconvert_exporter": "python",
   "pygments_lexer": "ipython3",
   "version": "3.13.7"
  }
 },
 "nbformat": 4,
 "nbformat_minor": 5
}
