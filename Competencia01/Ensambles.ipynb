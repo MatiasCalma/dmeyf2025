{
 "cells": [
  {
   "cell_type": "markdown",
   "id": "08e5b68f-1a93-4e78-9a64-1fd29ed30f5e",
   "metadata": {},
   "source": [
    "# Ensambles de modelos"
   ]
  },
  {
   "cell_type": "markdown",
   "id": "fcd4b700-9a0c-4344-b69e-04de6c37054b",
   "metadata": {},
   "source": [
    "# Nuevo ensamble. 7001 mas 4955"
   ]
  },
  {
   "cell_type": "code",
   "execution_count": null,
   "id": "54d5b866-dce4-4b9b-89e6-f160624974c3",
   "metadata": {},
   "outputs": [
    {
     "name": "stdout",
     "output_type": "stream",
     "text": [
      "Ensamble 5000-5003 (Promedio): 164313 filas.\n",
      "   numero_de_cliente  prob_ensamble\n",
      "0          249221323       0.000111\n",
      "1          249227600       0.000342\n",
      "2          249234235       0.163890\n",
      "3          249244449       0.010729\n",
      "4          249244739       0.018416\n",
      "--------------------------------------------------\n",
      "   numero_de_cliente     prob_4955\n",
      "0          249221323  1.555097e-07\n",
      "1          249227600  3.663059e-07\n",
      "2          249234235  2.758915e-04\n",
      "3          249244449  3.672860e-06\n",
      "4          249244739  7.755043e-06\n",
      "   numero_de_cliente  prob_4955  prob_7001  prob_final\n",
      "0          507653834   0.999861   0.999757    0.999809\n",
      "1         1122340744   0.999379   0.999786    0.999583\n",
      "2         1459306077   0.998508   0.998732    0.998620\n",
      "3          719952686   0.998961   0.998180    0.998570\n",
      "4         1016783779   0.998113   0.998945    0.998529\n"
     ]
    }
   ],
   "source": [
    "import os\n",
    "import pandas as pd\n",
    "\n",
    "# 1. DE HT4955\n",
    "ruta_base_4955 = \"/content/buckets/b1/exp/HT4955\"\n",
    "df4955 = pd.read_csv(f'{ruta_base_4955}/ensemble_predicciones_final_temp.csv')\n",
    "# Calcular el promedio de las columnas 2 a 11 \n",
    "columnas_a_promediar = df4955.iloc[:, 2:12]\n",
    "df4955['prob_prom'] = columnas_a_promediar.mean(axis=1)\n",
    "df4955 = df4955.loc[:, ['numero_de_cliente', 'prob_prom']]\n",
    "df4955 = df4955.rename(columns={'prob_prom': 'prob_4955'})\n",
    "\n",
    "print(df4955.head(5))\n",
    "# 2.Modelo 7001\n",
    "ruta_base = \"/content/buckets/b1/exp/HT7001\"\n",
    "df7001=pd.read_csv(f'{ruta_base}/ensemble_predicciones_final_temp.csv')\n",
    "columnas_a_promediar_7001 = df7001.iloc[:, 2:7]\n",
    "df7001['prob_7001'] = columnas_a_promediar_7001.mean(axis=1)\n",
    "df7001 = df7001.loc[:, ['numero_de_cliente', 'prob_7001']]\n",
    "df7001.head(5)\n",
    "\n",
    "# 4.Junto y PROMEDIO. PREDICCIÓN \n",
    "ensamble_final = pd.merge( left=df4955, right=df7001, on='numero_de_cliente', how='inner')\n",
    "#ensamble_final = pd.merge(left=ensamble_doble, right=df7001, on='numero_de_cliente', how='inner')\n",
    "ensamble_final['prob_final'] = (ensamble_final['prob_4955'] + ensamble_final['prob_7001'])/2\n",
    "\n",
    "ensamble_final = ensamble_final.sort_values(by='prob_final', ascending=False).reset_index(drop=True)\n",
    "print(ensamble_final.head(5))"
   ]
  },
  {
   "cell_type": "code",
   "execution_count": 37,
   "id": "910d2cf5-d8e9-400d-b1a0-bfc2d2581b85",
   "metadata": {},
   "outputs": [
    {
     "name": "stdout",
     "output_type": "stream",
     "text": [
      "   numero_de_cliente  Prediccion\n",
      "0          507653834           1\n",
      "1         1122340744           1\n",
      "2         1459306077           1\n",
      "3          719952686           1\n",
      "4         1016783779           1\n",
      "5          999158844           1\n",
      "6          971108609           1\n",
      "7          960841355           1\n",
      "8         1346661987           1\n",
      "9         1038027871           1\n"
     ]
    }
   ],
   "source": [
    "ensamble_final['Prediccion'] = 0  # Inicializa todo a 0\n",
    "ensamble_final.loc[0:10500, 'Prediccion'] = 1 \n",
    "ensamble_final= ensamble_final.loc[:, ['numero_de_cliente','Prediccion']]\n",
    "print(ensamble_final.head(10))\n",
    "\n",
    "ensamble_final.to_csv('ensamble_10semillas4955_6semillas7001_10500envios_1210.csv', index=False)"
   ]
  }
 ],
 "metadata": {
  "kernelspec": {
   "display_name": "Python 3 (ipykernel)",
   "language": "python",
   "name": "python3"
  },
  "language_info": {
   "codemirror_mode": {
    "name": "ipython",
    "version": 3
   },
   "file_extension": ".py",
   "mimetype": "text/x-python",
   "name": "python",
   "nbconvert_exporter": "python",
   "pygments_lexer": "ipython3",
   "version": "3.13.7"
  }
 },
 "nbformat": 4,
 "nbformat_minor": 5
}
